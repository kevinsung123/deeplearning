{
 "cells": [
  {
   "cell_type": "code",
   "execution_count": null,
   "id": "d28d8d23",
   "metadata": {},
   "outputs": [],
   "source": [
    "import tensorflow as tf\n",
    "import tensorflow_datasets as tdfs\n",
    "from tensorflow import keras\n",
    "import numpy as np\n",
    "from matplotlib import pyplot\n",
    "import PIL\n",
    "\n"
   ]
  },
  {
   "cell_type": "code",
   "execution_count": null,
   "id": "64ca7822",
   "metadata": {},
   "outputs": [],
   "source": [
    "# loading data fashion_mnist\n",
    "fashion_minist = keras.datasets.fashion_mnist\n",
    "(train_images, train_labels), (test_images, test_labels) = fashion_minist.load_data()\n",
    " \n",
    "# modeling\n",
    "model = keras.Sequential([\n",
    "    # input layer images 28X 28\n",
    "    keras.layers.Flatten(input_shape=(28,28)),\n",
    "    # hidden layer - 128 neurons\n",
    "    keras.layers.Dense(128, activation=tf.nn.relu),\n",
    "    # output layers because we have ten classes of clothing in the dataset.\n",
    "    keras.layers.Dense(10, activation=tf.nn.softmax)\n",
    "])\n",
    "\n"
   ]
  }
 ],
 "metadata": {
  "kernelspec": {
   "display_name": "Python 3",
   "language": "python",
   "name": "python3"
  },
  "language_info": {
   "codemirror_mode": {
    "name": "ipython",
    "version": 3
   },
   "file_extension": ".py",
   "mimetype": "text/x-python",
   "name": "python",
   "nbconvert_exporter": "python",
   "pygments_lexer": "ipython3",
   "version": "3.7.0"
  }
 },
 "nbformat": 4,
 "nbformat_minor": 5
}
