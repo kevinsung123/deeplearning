{
 "cells": [
  {
   "cell_type": "code",
   "execution_count": 2,
   "id": "f865de5e",
   "metadata": {},
   "outputs": [],
   "source": [
    "import tensorflow as tf\n",
    "from tensorflow import keras\n",
    "import numpy as np\n",
    "from matplotlib import pyplot\n",
    "import PIL\n",
    "\n"
   ]
  },
  {
   "cell_type": "code",
   "execution_count": null,
   "id": "2afa5a84",
   "metadata": {},
   "outputs": [],
   "source": [
    "print(tf.__version__)"
   ]
  },
  {
   "cell_type": "code",
   "execution_count": 3,
   "id": "2c8c6029",
   "metadata": {},
   "outputs": [],
   "source": [
    "# loading data fashion_mnist\n",
    "fashion_minist = tf.keras.datasets.fashion_mnist\n",
    "(train_images, train_labels), (test_images, test_labels) = fashion_minist.load_data()\n",
    " "
   ]
  },
  {
   "cell_type": "code",
   "execution_count": 4,
   "id": "41ca4a6b",
   "metadata": {},
   "outputs": [
    {
     "name": "stdout",
     "output_type": "stream",
     "text": [
      "[[  0   0   0   0   0   0   0   0   0   0   0   0   0   0   0   0   0   0   0   0   0   0   0   0   0   0   0   0]\n",
      " [  0   0   0   0   0   0   0   0   0   0   0   0   0   0   0   0   0   0   0   0   0   0   0   0   0   0   0   0]\n",
      " [  0   0   0   0   0   0   0   0   0   0   0   0   0   0   0   0   0   0   0   0   0   0   0   0   0   0   0   0]\n",
      " [  0   0   0   0   0   0   0   0   0   0   0   0   1   0   0  13  73   0   0   1   4   0   0   0   0   1   1   0]\n",
      " [  0   0   0   0   0   0   0   0   0   0   0   0   3   0  36 136 127  62  54   0   0   0   1   3   4   0   0   3]\n",
      " [  0   0   0   0   0   0   0   0   0   0   0   0   6   0 102 204 176 134 144 123  23   0   0   0   0  12  10   0]\n",
      " [  0   0   0   0   0   0   0   0   0   0   0   0   0   0 155 236 207 178 107 156 161 109  64  23  77 130  72  15]\n",
      " [  0   0   0   0   0   0   0   0   0   0   0   1   0  69 207 223 218 216 216 163 127 121 122 146 141  88 172  66]\n",
      " [  0   0   0   0   0   0   0   0   0   1   1   1   0 200 232 232 233 229 223 223 215 213 164 127 123 196 229   0]\n",
      " [  0   0   0   0   0   0   0   0   0   0   0   0   0 183 225 216 223 228 235 227 224 222 224 221 223 245 173   0]\n",
      " [  0   0   0   0   0   0   0   0   0   0   0   0   0 193 228 218 213 198 180 212 210 211 213 223 220 243 202   0]\n",
      " [  0   0   0   0   0   0   0   0   0   1   3   0  12 219 220 212 218 192 169 227 208 218 224 212 226 197 209  52]\n",
      " [  0   0   0   0   0   0   0   0   0   0   6   0  99 244 222 220 218 203 198 221 215 213 222 220 245 119 167  56]\n",
      " [  0   0   0   0   0   0   0   0   0   4   0   0  55 236 228 230 228 240 232 213 218 223 234 217 217 209  92   0]\n",
      " [  0   0   1   4   6   7   2   0   0   0   0   0 237 226 217 223 222 219 222 221 216 223 229 215 218 255  77   0]\n",
      " [  0   3   0   0   0   0   0   0   0  62 145 204 228 207 213 221 218 208 211 218 224 223 219 215 224 244 159   0]\n",
      " [  0   0   0   0  18  44  82 107 189 228 220 222 217 226 200 205 211 230 224 234 176 188 250 248 233 238 215   0]\n",
      " [  0  57 187 208 224 221 224 208 204 214 208 209 200 159 245 193 206 223 255 255 221 234 221 211 220 232 246   0]\n",
      " [  3 202 228 224 221 211 211 214 205 205 205 220 240  80 150 255 229 221 188 154 191 210 204 209 222 228 225   0]\n",
      " [ 98 233 198 210 222 229 229 234 249 220 194 215 217 241  65  73 106 117 168 219 221 215 217 223 223 224 229  29]\n",
      " [ 75 204 212 204 193 205 211 225 216 185 197 206 198 213 240 195 227 245 239 223 218 212 209 222 220 221 230  67]\n",
      " [ 48 203 183 194 213 197 185 190 194 192 202 214 219 221 220 236 225 216 199 206 186 181 177 172 181 205 206 115]\n",
      " [  0 122 219 193 179 171 183 196 204 210 213 207 211 210 200 196 194 191 195 191 198 192 176 156 167 177 210  92]\n",
      " [  0   0  74 189 212 191 175 172 175 181 185 188 189 188 193 198 204 209 210 210 211 188 188 194 192 216 170   0]\n",
      " [  2   0   0   0  66 200 222 237 239 242 246 243 244 221 220 193 191 179 182 182 181 176 166 168  99  58   0   0]\n",
      " [  0   0   0   0   0   0   0  40  61  44  72  41  35   0   0   0   0   0   0   0   0   0   0   0   0   0   0   0]\n",
      " [  0   0   0   0   0   0   0   0   0   0   0   0   0   0   0   0   0   0   0   0   0   0   0   0   0   0   0   0]\n",
      " [  0   0   0   0   0   0   0   0   0   0   0   0   0   0   0   0   0   0   0   0   0   0   0   0   0   0   0   0]]\n",
      "(28, 28)\n"
     ]
    }
   ],
   "source": [
    "# what does these values look like?\n",
    "import numpy as np\n",
    "np.set_printoptions(linewidth=200)\n",
    "import matplotlib.pyplot as plt\n",
    "plt.imshow(train_images[0], cmap='gray')\n",
    "#print(train_labels[0])\n",
    "print(train_images[0])\n",
    "print(train_images[0].shape)\n"
   ]
  },
  {
   "cell_type": "code",
   "execution_count": 5,
   "id": "da3fe897",
   "metadata": {},
   "outputs": [],
   "source": [
    "# you'll notice that all of the values in the number are between 0 and 255.\n",
    "# if we are training a neural network, for various reasons it's easier if we treat all values as between 0 and 1,\n",
    "# a process normalizing and fortunately in python it's easy to normalize a list like \n",
    "# this without looping \n",
    "train_images = train_images / 255.0\n",
    "test_images = test_images / 255.0"
   ]
  },
  {
   "cell_type": "code",
   "execution_count": 7,
   "id": "6b8a7573",
   "metadata": {},
   "outputs": [],
   "source": [
    "# Let's now design the model\n",
    "model = keras.Sequential([\n",
    "    # input layer images 28X 28\n",
    "    keras.layers.Flatten(input_shape=(28,28)),\n",
    "    # hidden layer - 128 neurons\n",
    "    keras.layers.Dense(128, activation=tf.nn.relu),\n",
    "    # output layers because we have ten classes of clothing in the dataset.\n",
    "    keras.layers.Dense(10, activation=tf.nn.softmax)\n",
    "])\n",
    "\n"
   ]
  },
  {
   "cell_type": "markdown",
   "id": "e1b64d93",
   "metadata": {},
   "source": [
    "**Sequential** : the defines a SEQUENCE of layers in the neural network\n",
    "\n",
    "**Flatten** : remember earlier where our images were a square, when you printed them out? Flatten just takes that square and turns it into a 1 dimensonal set\n",
    "\n",
    "**Dense** : adds a layers of neurons\n",
    "\n",
    "each layers fo neurons need an **activation function** to tell them what to do.\n",
    "\n",
    "**Rule** : effectively means if X>0 return X, else return 0\n",
    "\n",
    "**Softmax** : takes a set of values, and effectively picks the bigges one. ex) [0.1, 0.2, 9.5] -> [0,0,1]. The goal is to save a lot of coding!\n",
    "\n",
    "The next thing to do, now model is defined, is to actually build it. You do this by compling it with an optimizer and loss function as befroe. and then you train it by calling **model.fit** asking it to fit your trainig data to your training labels\n"
   ]
  },
  {
   "cell_type": "code",
   "execution_count": 9,
   "id": "8393b0e1",
   "metadata": {},
   "outputs": [
    {
     "name": "stdout",
     "output_type": "stream",
     "text": [
      "Epoch 1/5\n",
      "1875/1875 [==============================] - 3s 1ms/step - loss: 0.6282 - accuracy: 0.7838\n",
      "Epoch 2/5\n",
      "1875/1875 [==============================] - 2s 1ms/step - loss: 0.3854 - accuracy: 0.8616\n",
      "Epoch 3/5\n",
      "1875/1875 [==============================] - 2s 1ms/step - loss: 0.3397 - accuracy: 0.8751\n",
      "Epoch 4/5\n",
      "1875/1875 [==============================] - 2s 1ms/step - loss: 0.3125 - accuracy: 0.8860\n",
      "Epoch 5/5\n",
      "1875/1875 [==============================] - 2s 1ms/step - loss: 0.2917 - accuracy: 0.8917\n"
     ]
    },
    {
     "data": {
      "text/plain": [
       "<tensorflow.python.keras.callbacks.History at 0x193e2e115c0>"
      ]
     },
     "execution_count": 9,
     "metadata": {},
     "output_type": "execute_result"
    }
   ],
   "source": [
    "model.compile(optimizer=keras.optimizers.Adam(),loss='sparse_categorical_crossentropy',metrics=['accuracy'])\n",
    "model.fit(train_images,train_labels,epochs=5)\n"
   ]
  },
  {
   "cell_type": "markdown",
   "id": "69441880",
   "metadata": {},
   "source": [
    "once it's done training -- you show see an accuray value at the end of the final epoch. it might look like something like 0.9098. This tells you that your neural network is about 91% accurate in classifying the training data. IE,. it figured out a pattern match between the image and the labels that worked 91% of the time. Not great, but not bad considering it was only trained for 5 epochs and done quite quickly\n",
    "\n",
    "But how would it work with unseen data? That's why we have the test images. We call model.evalute, and pass in the two sets, and it will report back the loss for each. Let's give it a try"
   ]
  },
  {
   "cell_type": "code",
   "execution_count": 14,
   "id": "f02f5500",
   "metadata": {},
   "outputs": [
    {
     "name": "stdout",
     "output_type": "stream",
     "text": [
      "313/313 [==============================] - 0s 958us/step - loss: 0.3425 - accuracy: 0.8736\n"
     ]
    },
    {
     "data": {
      "text/plain": [
       "[0.3424607813358307, 0.8736000061035156]"
      ]
     },
     "execution_count": 14,
     "metadata": {},
     "output_type": "execute_result"
    }
   ],
   "source": [
    "model.evaluate(test_images,test_labels)\n"
   ]
  },
  {
   "cell_type": "markdown",
   "id": "a6ca7e32",
   "metadata": {},
   "source": [
    "## Excersie 1:\n",
    "below code prints the first entry in the classifications. The output, after you run it is a list of numbers. Why do you think is, and what do those numbers present?"
   ]
  },
  {
   "cell_type": "code",
   "execution_count": 25,
   "id": "1596f4e4",
   "metadata": {},
   "outputs": [
    {
     "name": "stdout",
     "output_type": "stream",
     "text": [
      "(10000, 10)\n",
      "[2.8781426e-06 6.3117223e-09 2.2734035e-07 9.3454176e-08 1.2203843e-07 1.7341126e-02 9.5476287e-07 1.1918182e-01 1.8200928e-06 8.6347091e-01]\n"
     ]
    }
   ],
   "source": [
    "classifications = model.predict(test_images)\n",
    "print(classifications.shape)\n",
    "print(classifications[0])\n"
   ]
  },
  {
   "cell_type": "code",
   "execution_count": 16,
   "id": "e7d4a732",
   "metadata": {},
   "outputs": [
    {
     "name": "stdout",
     "output_type": "stream",
     "text": [
      "9\n"
     ]
    }
   ],
   "source": [
    "print(test_labels[0])"
   ]
  },
  {
   "cell_type": "markdown",
   "id": "b9cbd89c",
   "metadata": {},
   "source": [
    "## Question1 : What does this list present?\n",
    "it's the probability that this item is each of the 10 classes\n",
    "ans)\n",
    "The output of the modle is a list of 10 numbers. These numbers are a probability that the value being classified is the corresponding value, i.e, the first value in the list is the probability that the image is of a '0' the next is a '1' etc\n",
    "For index 9(Ankle boot) the probability was in the 90% i.e. the neural network is telling us that the image is most likely an ankle boot"
   ]
  },
  {
   "cell_type": "markdown",
   "id": "3171f47b",
   "metadata": {},
   "source": [
    "## Question 2 : How do you know that this list tells you that the item is an ankle boot?"
   ]
  },
  {
   "cell_type": "markdown",
   "id": "4c61a121",
   "metadata": {},
   "source": [
    "The 10th element on the list is the biggest, and the ankle boot is labelled 9\n",
    "## Answer\n",
    "Both the list and labels are 0 based, so the ankle boot having label 9 means that it is the 10th of th 10 classes. The list having the 10th element being values means that the Neural Network has predicted that the item it is classifying is most likely an ankle boot"
   ]
  },
  {
   "cell_type": "markdown",
   "id": "5bacf192",
   "metadata": {},
   "source": [
    "## Exercise 2 \n",
    "experiment with different values for the dense layer with 512 neurons. What different results do you get for loss, training time etc? Why do you think that's the case?"
   ]
  },
  {
   "cell_type": "code",
   "execution_count": 27,
   "id": "7b1c676e",
   "metadata": {},
   "outputs": [],
   "source": [
    "mnst = tf.keras.datasets.mnist\n",
    "\n",
    "# load data and normalizing \n",
    "(train_images, train_labels),(test_images,test_labels) = mnst.load_data()\n",
    "train_images = train_images / 255.0\n",
    "test_images = test_images / 255.0\n"
   ]
  }
 ],
 "metadata": {
  "kernelspec": {
   "display_name": "Python 3",
   "language": "python",
   "name": "python3"
  },
  "language_info": {
   "codemirror_mode": {
    "name": "ipython",
    "version": 3
   },
   "file_extension": ".py",
   "mimetype": "text/x-python",
   "name": "python",
   "nbconvert_exporter": "python",
   "pygments_lexer": "ipython3",
   "version": "3.7.0"
  }
 },
 "nbformat": 4,
 "nbformat_minor": 5
}
