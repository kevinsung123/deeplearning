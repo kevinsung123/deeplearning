{
 "cells": [
  {
   "cell_type": "code",
   "execution_count": 10,
   "id": "8d0b4be7",
   "metadata": {},
   "outputs": [],
   "source": [
    "import tensorflow as tf\n",
    "from tensorflow import keras\n",
    "import numpy as np\n",
    "import matplotlib.pyplot as plt\n",
    "\n"
   ]
  },
  {
   "cell_type": "code",
   "execution_count": null,
   "id": "d02173f5",
   "metadata": {},
   "outputs": [],
   "source": [
    "print(tf.__version__)"
   ]
  },
  {
   "cell_type": "code",
   "execution_count": 3,
   "id": "92ccc70e",
   "metadata": {},
   "outputs": [],
   "source": [
    "# loading data fashion_mnist\n",
    "fashion_minist = tf.keras.datasets.fashion_mnist\n",
    "(train_images, train_labels), (test_images, test_labels) = fashion_minist.load_data()\n",
    " "
   ]
  },
  {
   "cell_type": "code",
   "execution_count": 4,
   "id": "6f1b2b93",
   "metadata": {},
   "outputs": [
    {
     "name": "stdout",
     "output_type": "stream",
     "text": [
      "[[  0   0   0   0   0   0   0   0   0   0   0   0   0   0   0   0   0   0   0   0   0   0   0   0   0   0   0   0]\n",
      " [  0   0   0   0   0   0   0   0   0   0   0   0   0   0   0   0   0   0   0   0   0   0   0   0   0   0   0   0]\n",
      " [  0   0   0   0   0   0   0   0   0   0   0   0   0   0   0   0   0   0   0   0   0   0   0   0   0   0   0   0]\n",
      " [  0   0   0   0   0   0   0   0   0   0   0   0   1   0   0  13  73   0   0   1   4   0   0   0   0   1   1   0]\n",
      " [  0   0   0   0   0   0   0   0   0   0   0   0   3   0  36 136 127  62  54   0   0   0   1   3   4   0   0   3]\n",
      " [  0   0   0   0   0   0   0   0   0   0   0   0   6   0 102 204 176 134 144 123  23   0   0   0   0  12  10   0]\n",
      " [  0   0   0   0   0   0   0   0   0   0   0   0   0   0 155 236 207 178 107 156 161 109  64  23  77 130  72  15]\n",
      " [  0   0   0   0   0   0   0   0   0   0   0   1   0  69 207 223 218 216 216 163 127 121 122 146 141  88 172  66]\n",
      " [  0   0   0   0   0   0   0   0   0   1   1   1   0 200 232 232 233 229 223 223 215 213 164 127 123 196 229   0]\n",
      " [  0   0   0   0   0   0   0   0   0   0   0   0   0 183 225 216 223 228 235 227 224 222 224 221 223 245 173   0]\n",
      " [  0   0   0   0   0   0   0   0   0   0   0   0   0 193 228 218 213 198 180 212 210 211 213 223 220 243 202   0]\n",
      " [  0   0   0   0   0   0   0   0   0   1   3   0  12 219 220 212 218 192 169 227 208 218 224 212 226 197 209  52]\n",
      " [  0   0   0   0   0   0   0   0   0   0   6   0  99 244 222 220 218 203 198 221 215 213 222 220 245 119 167  56]\n",
      " [  0   0   0   0   0   0   0   0   0   4   0   0  55 236 228 230 228 240 232 213 218 223 234 217 217 209  92   0]\n",
      " [  0   0   1   4   6   7   2   0   0   0   0   0 237 226 217 223 222 219 222 221 216 223 229 215 218 255  77   0]\n",
      " [  0   3   0   0   0   0   0   0   0  62 145 204 228 207 213 221 218 208 211 218 224 223 219 215 224 244 159   0]\n",
      " [  0   0   0   0  18  44  82 107 189 228 220 222 217 226 200 205 211 230 224 234 176 188 250 248 233 238 215   0]\n",
      " [  0  57 187 208 224 221 224 208 204 214 208 209 200 159 245 193 206 223 255 255 221 234 221 211 220 232 246   0]\n",
      " [  3 202 228 224 221 211 211 214 205 205 205 220 240  80 150 255 229 221 188 154 191 210 204 209 222 228 225   0]\n",
      " [ 98 233 198 210 222 229 229 234 249 220 194 215 217 241  65  73 106 117 168 219 221 215 217 223 223 224 229  29]\n",
      " [ 75 204 212 204 193 205 211 225 216 185 197 206 198 213 240 195 227 245 239 223 218 212 209 222 220 221 230  67]\n",
      " [ 48 203 183 194 213 197 185 190 194 192 202 214 219 221 220 236 225 216 199 206 186 181 177 172 181 205 206 115]\n",
      " [  0 122 219 193 179 171 183 196 204 210 213 207 211 210 200 196 194 191 195 191 198 192 176 156 167 177 210  92]\n",
      " [  0   0  74 189 212 191 175 172 175 181 185 188 189 188 193 198 204 209 210 210 211 188 188 194 192 216 170   0]\n",
      " [  2   0   0   0  66 200 222 237 239 242 246 243 244 221 220 193 191 179 182 182 181 176 166 168  99  58   0   0]\n",
      " [  0   0   0   0   0   0   0  40  61  44  72  41  35   0   0   0   0   0   0   0   0   0   0   0   0   0   0   0]\n",
      " [  0   0   0   0   0   0   0   0   0   0   0   0   0   0   0   0   0   0   0   0   0   0   0   0   0   0   0   0]\n",
      " [  0   0   0   0   0   0   0   0   0   0   0   0   0   0   0   0   0   0   0   0   0   0   0   0   0   0   0   0]]\n",
      "(28, 28)\n"
     ]
    }
   ],
   "source": [
    "# what does these values look like?\n",
    "import numpy as np\n",
    "np.set_printoptions(linewidth=200)\n",
    "import matplotlib.pyplot as plt\n",
    "plt.imshow(train_images[0], cmap='gray')\n",
    "#print(train_labels[0])\n",
    "print(train_images[0])\n",
    "print(train_images[0].shape)\n"
   ]
  },
  {
   "cell_type": "code",
   "execution_count": 5,
   "id": "ff5b5806",
   "metadata": {},
   "outputs": [],
   "source": [
    "# you'll notice that all of the values in the number are between 0 and 255.\n",
    "# if we are training a neural network, for various reasons it's easier if we treat all values as between 0 and 1,\n",
    "# a process normalizing and fortunately in python it's easy to normalize a list like \n",
    "# this without looping \n",
    "train_images = train_images / 255.0\n",
    "test_images = test_images / 255.0"
   ]
  },
  {
   "cell_type": "code",
   "execution_count": 7,
   "id": "cb7ef716",
   "metadata": {},
   "outputs": [],
   "source": [
    "# Let's now design the model\n",
    "model = keras.Sequential([\n",
    "    # input layer images 28X 28\n",
    "    keras.layers.Flatten(input_shape=(28,28)),\n",
    "    # hidden layer - 128 neurons\n",
    "    keras.layers.Dense(128, activation=tf.nn.relu),\n",
    "    # output layers because we have ten classes of clothing in the dataset.\n",
    "    keras.layers.Dense(10, activation=tf.nn.softmax)\n",
    "])\n",
    "\n"
   ]
  },
  {
   "cell_type": "markdown",
   "id": "eb588180",
   "metadata": {},
   "source": [
    "**Sequential** : the defines a SEQUENCE of layers in the neural network\n",
    "\n",
    "**Flatten** : remember earlier where our images were a square, when you printed them out? Flatten just takes that square and turns it into a 1 dimensonal set\n",
    "\n",
    "**Dense** : adds a layers of neurons\n",
    "\n",
    "each layers fo neurons need an **activation function** to tell them what to do.\n",
    "\n",
    "**Rulu** effectively means if X>0 return X, else return 0\n",
    "\n",
    "**Softmax** : takes a set of values, and effectively picks the bigges one. ex) [0.1, 0.2, 9.5] -> [0,0,1]. The goal is to save a lot of coding!\n",
    "\n",
    "The next thing to do, now model is defined, is to actually build it. You do this by compling it with an optimizer and loss function as befroe. and then you train it by calling **model.fit** asking it to fit your trainig data to your training labels\n"
   ]
  },
  {
   "cell_type": "code",
   "execution_count": 9,
   "id": "b6bf7fe9",
   "metadata": {},
   "outputs": [
    {
     "name": "stdout",
     "output_type": "stream",
     "text": [
      "Epoch 1/5\n",
      "1875/1875 [==============================] - 3s 1ms/step - loss: 0.6282 - accuracy: 0.7838\n",
      "Epoch 2/5\n",
      "1875/1875 [==============================] - 2s 1ms/step - loss: 0.3854 - accuracy: 0.8616\n",
      "Epoch 3/5\n",
      "1875/1875 [==============================] - 2s 1ms/step - loss: 0.3397 - accuracy: 0.8751\n",
      "Epoch 4/5\n",
      "1875/1875 [==============================] - 2s 1ms/step - loss: 0.3125 - accuracy: 0.8860\n",
      "Epoch 5/5\n",
      "1875/1875 [==============================] - 2s 1ms/step - loss: 0.2917 - accuracy: 0.8917\n"
     ]
    },
    {
     "data": {
      "text/plain": [
       "<tensorflow.python.keras.callbacks.History at 0x193e2e115c0>"
      ]
     },
     "execution_count": 9,
     "metadata": {},
     "output_type": "execute_result"
    }
   ],
   "source": [
    "model.compile(optimizer=keras.optimizers.Adam(),loss='sparse_categorical_crossentropy',metrics=['accuracy'])\n",
    "model.fit(train_images,train_labels,epochs=5)\n"
   ]
  },
  {
   "cell_type": "markdown",
   "id": "2bb69a0d",
   "metadata": {},
   "source": [
    "once it's done training -- you show see an accuray value at the end of the final epoch. it might look like something like 0.9098. This tells you that your neural network is about 91% accurate in classifying the training data. IE,. it figured out a pattern match between the image and the labels that worked 91% of the time. Not great, but not bad considering it was only trained for 5 epochs and done quite quickly\n",
    "\n",
    "But how would it work with unseen data? That's why we have the test images. We call model.evalute, and pass in the two sets, and it will report back the loss for each. Let's give it a try"
   ]
  },
  {
   "cell_type": "code",
   "execution_count": 14,
   "id": "b8df2923",
   "metadata": {},
   "outputs": [
    {
     "name": "stdout",
     "output_type": "stream",
     "text": [
      "313/313 [==============================] - 0s 958us/step - loss: 0.3425 - accuracy: 0.8736\n"
     ]
    },
    {
     "data": {
      "text/plain": [
       "[0.3424607813358307, 0.8736000061035156]"
      ]
     },
     "execution_count": 14,
     "metadata": {},
     "output_type": "execute_result"
    }
   ],
   "source": [
    "model.evaluate(test_images,test_labels)\n"
   ]
  },
  {
   "cell_type": "markdown",
   "id": "ed2aee41",
   "metadata": {},
   "source": [
    "## Excersie 1:\n",
    "below code prints the first entry in the classifications. The output, after you run it is a list of numbers. Why do you think is, and what do those numbers present?"
   ]
  },
  {
   "cell_type": "code",
   "execution_count": 25,
   "id": "093d08f2",
   "metadata": {},
   "outputs": [
    {
     "name": "stdout",
     "output_type": "stream",
     "text": [
      "(10000, 10)\n",
      "[2.8781426e-06 6.3117223e-09 2.2734035e-07 9.3454176e-08 1.2203843e-07 1.7341126e-02 9.5476287e-07 1.1918182e-01 1.8200928e-06 8.6347091e-01]\n"
     ]
    }
   ],
   "source": [
    "classifications = model.predict(test_images)\n",
    "print(classifications.shape)\n",
    "print(classifications[0])\n"
   ]
  },
  {
   "cell_type": "code",
   "execution_count": 16,
   "id": "b4bc7ed0",
   "metadata": {},
   "outputs": [
    {
     "name": "stdout",
     "output_type": "stream",
     "text": [
      "9\n"
     ]
    }
   ],
   "source": [
    "print(test_labels[0])"
   ]
  },
  {
   "cell_type": "markdown",
   "id": "2b4dc8cc",
   "metadata": {},
   "source": [
    "### Question1 : What does this list present?\n",
    "it's the probability that this item is each of the 10 classes\n",
    "ans)\n",
    "The output of the modle is a list of 10 numbers. These numbers are a probability that the value being classified is the corresponding value, i.e, the first value in the list is the probability that the image is of a '0' the next is a '1' etc\n",
    "For index 9(Ankle boot) the probability was in the 90% i.e. the neural network is telling us that the image is most likely an ankle boot"
   ]
  },
  {
   "cell_type": "markdown",
   "id": "7799e964",
   "metadata": {},
   "source": [
    "### Question 2 : How do you know that this list tells you that the item is an ankle boot?"
   ]
  },
  {
   "cell_type": "markdown",
   "id": "65ded073",
   "metadata": {},
   "source": [
    "### Answer\n",
    "The 10th element on the list is the biggest, and the ankle boot is labelled 9\n",
    "\n",
    "Both the list and labels are 0 based, so the ankle boot having label 9 means that it is the 10th of th 10 classes. The list having the 10th element being values means that the Neural Network has predicted that the item it is classifying is most likely an ankle boot"
   ]
  },
  {
   "cell_type": "markdown",
   "id": "b7ab824d",
   "metadata": {},
   "source": [
    "## Exercise 2 \n",
    "experiment with different values for the dense layer with 512 neurons. What different results do you get for loss, training time etc? Why do you think that's the case?"
   ]
  },
  {
   "cell_type": "code",
   "execution_count": 44,
   "id": "00679f1c",
   "metadata": {},
   "outputs": [
    {
     "name": "stdout",
     "output_type": "stream",
     "text": [
      "train images shape :(60000, 28, 28)\n",
      "test images shape :(10000, 28, 28)\n",
      "Epoch 1/5\n",
      "1875/1875 [==============================] - 8s 4ms/step - loss: 0.3160 - accuracy: 0.9040\n",
      "Epoch 2/5\n",
      "1875/1875 [==============================] - 8s 4ms/step - loss: 0.0747 - accuracy: 0.9770\n",
      "Epoch 3/5\n",
      "1875/1875 [==============================] - 8s 4ms/step - loss: 0.0454 - accuracy: 0.9847\n",
      "Epoch 4/5\n",
      "1875/1875 [==============================] - 8s 4ms/step - loss: 0.0307 - accuracy: 0.9905\n",
      "Epoch 5/5\n",
      "1875/1875 [==============================] - 8s 4ms/step - loss: 0.0241 - accuracy: 0.9915\n",
      "313/313 [==============================] - 1s 1ms/step - loss: 0.0773 - accuracy: 0.9794\n",
      "[2.8781426e-06 6.3117223e-09 2.2734035e-07 9.3454176e-08 1.2203843e-07 1.7341126e-02 9.5476287e-07 1.1918182e-01 1.8200928e-06 8.6347091e-01]\n",
      "7\n"
     ]
    }
   ],
   "source": [
    "tf.keras.backend.clear_session()\n",
    "mnst = tf.keras.datasets.mnist\n",
    "\n",
    "# load data and normalizing \n",
    "(train_images, train_labels),(test_images,test_labels) = mnst.load_data()\n",
    "train_images = train_images / 255.0\n",
    "test_images = test_images / 255.0\n",
    "\n",
    "print(f'train images shape :{train_images.shape}')\n",
    "print(f'test images shape :{test_images.shape}')\n",
    "\n",
    "# design model\n",
    "model = tf.keras.models.Sequential([\n",
    "    tf.keras.layers.Flatten(),\n",
    "    # 128 : 0.9763\n",
    "    # 512 : 0.9810 \n",
    "    # 1024 : \n",
    "    tf.keras.layers.Dense(1024, activation=tf.nn.relu),\n",
    "    tf.keras.layers.Dense(10, activation=tf.nn.softmax)\n",
    "])\n",
    "\n",
    "# compile model\n",
    "model.compile(optimizer='adam',\n",
    "              loss='sparse_categorical_crossentropy',\n",
    "              metrics=['accuracy']\n",
    "             )\n",
    "# training model\n",
    "model.fit(train_images,train_labels, epochs=5)\n",
    "\n",
    "# evaluate model\n",
    "model.evaluate(test_images,test_labels)\n",
    "\n",
    "clssification = model.predict(test_images)\n",
    "print(classifications[0])\n",
    "print(test_labels[0])\n"
   ]
  },
  {
   "cell_type": "markdown",
   "id": "7df4ef89",
   "metadata": {},
   "source": [
    "### Question1 : Increase to 1024 neurons -- What's the impact?\n",
    "### Answer\n",
    "Training takes longer, but is more accurate\n",
    "adding more Neurons we have to do more caculations, slowing down the process, but in this case they have a good impact -- we do get more accurate. That doesn't mean it's always a case of 'more is better', you can hit the law of diminishing returns very quickly!"
   ]
  },
  {
   "cell_type": "markdown",
   "id": "9c6342ac",
   "metadata": {},
   "source": [
    "## Excersie3 \n",
    "### Question1 : What would happen if you remove the Flatten()layer. Why do the think that's the case?\n",
    "### Answer \n",
    "you get an error about **the shape of the data**. it may seem vague right now, but it reinforces the rule of thumb that the first layers in you network should be the same shape as your data. Right now our data is 28X28 images, and 28 layers of 28 neurons would be infeasilbe, so it makes more sense to **flatten** 28,28 into to 784X1. we add the Flatten() layer at the begining, and when the arrays are loaded into the model layres, they'll automatically be flattened for us"
   ]
  },
  {
   "cell_type": "code",
   "execution_count": 50,
   "id": "456f2cdc",
   "metadata": {},
   "outputs": [
    {
     "name": "stdout",
     "output_type": "stream",
     "text": [
      "Epoch 1/5\n",
      "1875/1875 [==============================] - 2s 1ms/step - loss: 0.5011\n",
      "Epoch 2/5\n",
      "1875/1875 [==============================] - 2s 940us/step - loss: 0.1581\n",
      "Epoch 3/5\n",
      "1875/1875 [==============================] - 2s 978us/step - loss: 0.1082\n",
      "Epoch 4/5\n",
      "1875/1875 [==============================] - 2s 928us/step - loss: 0.0832\n",
      "Epoch 5/5\n",
      "1875/1875 [==============================] - 2s 1ms/step - loss: 0.0676\n",
      "313/313 [==============================] - 0s 724us/step - loss: 0.0919\n",
      "[6.4534324e-06 1.8369107e-08 5.9857244e-05 1.2589046e-03 4.8710529e-09 6.6407875e-07 1.7532837e-12 9.9857605e-01 6.5446902e-06 9.1570699e-05]\n",
      "7\n",
      "7\n"
     ]
    }
   ],
   "source": [
    "mnist = tf.keras.datasets.mnist\n",
    "\n",
    "(training_images, training_labels) ,  (test_images, test_labels) = mnist.load_data()\n",
    "\n",
    "training_images = training_images/255.0\n",
    "test_images = test_images/255.0\n",
    "\n",
    "model = tf.keras.models.Sequential([tf.keras.layers.Flatten(), #Try removing this layer\n",
    "                                    tf.keras.layers.Dense(64, activation=tf.nn.relu),\n",
    "                                    tf.keras.layers.Dense(10, activation=tf.nn.softmax)])\n",
    "\n",
    "model.compile(optimizer = 'adam',\n",
    "              loss = 'sparse_categorical_crossentropy')\n",
    "\n",
    "model.fit(training_images, training_labels, epochs=5)\n",
    "\n",
    "model.evaluate(test_images, test_labels)\n",
    "\n",
    "classifications = model.predict(test_images)\n",
    "\n"
   ]
  },
  {
   "cell_type": "code",
   "execution_count": 54,
   "id": "93ab12fa",
   "metadata": {},
   "outputs": [
    {
     "name": "stdout",
     "output_type": "stream",
     "text": [
      "[6.4534324e-06 1.8369107e-08 5.9857244e-05 1.2589046e-03 4.8710529e-09 6.6407875e-07 1.7532837e-12 9.9857605e-01 6.5446902e-06 9.1570699e-05]\n",
      "<class 'numpy.ndarray'>\n",
      "7\n",
      "7\n"
     ]
    }
   ],
   "source": [
    "print(classifications[0])\n",
    "print(type(classifications))\n",
    "print(np.argmax(classifications[0],axis=0))\n",
    "print(test_labels[0])"
   ]
  },
  {
   "cell_type": "markdown",
   "id": "ba701130",
   "metadata": {},
   "source": [
    "## Excersie4\n",
    "Consider the final (output) layers. Why are there 10 of them? What would happen if you had a different amount than 10? For example, try training the network with 5.\n",
    "\n",
    "### Answer \n",
    "You get an error as soon as it finds an unexpected value. Another rule of thumb -- the number of neurons in the last layer should match the number of classes you are classifying for. In this case it's the digits 0-9, so there are 10 of them, hence you should have 10 neurons in your final layer."
   ]
  },
  {
   "cell_type": "code",
   "execution_count": null,
   "id": "5bc003a9",
   "metadata": {},
   "outputs": [],
   "source": [
    "mnist = tf.keras.datasets.mnist\n",
    "\n",
    "(training_images, training_labels) ,  (test_images, test_labels) = mnist.load_data()\n",
    "\n",
    "training_images = training_images/255.0\n",
    "test_images = test_images/255.0\n",
    "\n",
    "model = tf.keras.models.Sequential([tf.keras.layers.Flatten(),\n",
    "                                    tf.keras.layers.Dense(64, activation=tf.nn.relu),\n",
    "                                    tf.keras.layers.Dense(10, activation=tf.nn.softmax) # Try experimenting with this layer\n",
    "                                  ])\n",
    "\n",
    "model.compile(optimizer = 'adam',\n",
    "              loss = 'sparse_categorical_crossentropy')\n",
    "\n",
    "model.fit(training_images, training_labels, epochs=5)\n",
    "\n",
    "model.evaluate(test_images, test_labels)\n",
    "\n",
    "classifications = model.predict(test_images)\n",
    "\n",
    "print(classifications[0])\n",
    "print(test_labels[0])"
   ]
  },
  {
   "cell_type": "markdown",
   "id": "26e73ee4",
   "metadata": {},
   "source": [
    "## Exercise 5:\n",
    "Consider the effects of additional layers in the network. What will happen if you add another layer between the one with 512 and the final layer with 10.\n",
    "\n",
    "## Answer\n",
    "There isn't a significant impact -- because this is relatively simple data. For far more complex data (including color images to be classified as flowers that you'll see in the next lesson), extra layers are often necessary."
   ]
  },
  {
   "cell_type": "code",
   "execution_count": 63,
   "id": "82dc5901",
   "metadata": {},
   "outputs": [
    {
     "name": "stdout",
     "output_type": "stream",
     "text": [
      "Epoch 1/5\n",
      "1875/1875 [==============================] - 5s 3ms/step - loss: 0.3186\n",
      "Epoch 2/5\n",
      "1875/1875 [==============================] - 5s 3ms/step - loss: 0.0823\n",
      "Epoch 3/5\n",
      "1875/1875 [==============================] - 5s 3ms/step - loss: 0.0529\n",
      "Epoch 4/5\n",
      "1875/1875 [==============================] - 5s 3ms/step - loss: 0.0421\n",
      "Epoch 5/5\n",
      "1875/1875 [==============================] - 5s 3ms/step - loss: 0.0309\n",
      "313/313 [==============================] - 0s 1ms/step - loss: 0.0796\n",
      "[1.2698566e-13 2.7966878e-09 1.8509303e-11 6.6183361e-09 2.4037521e-12 1.2914541e-13 1.0179236e-15 9.9999988e-01 4.6263856e-12 6.5267649e-08]\n",
      "7\n"
     ]
    }
   ],
   "source": [
    "tf.keras.backend.clear_session()\n",
    "mnist = tf.keras.datasets.mnist\n",
    "\n",
    "(training_images, training_labels) ,  (test_images, test_labels) = mnist.load_data()\n",
    "\n",
    "training_images = training_images/255.0\n",
    "test_images = test_images/255.0\n",
    "\n",
    "model = tf.keras.models.Sequential([tf.keras.layers.Flatten(),\n",
    "                                    tf.keras.layers.Dense(512, activation=tf.nn.relu),\n",
    "                                    # Add a layer here,\n",
    "                                    tf.keras.layers.Dense(256, activation=tf.nn.relu),\n",
    "                                    # Add a layer here\n",
    "                                    tf.keras.layers.Dense(10, activation=tf.nn.softmax)\n",
    "                                  ])\n",
    "\n",
    "model.compile(optimizer = 'adam',\n",
    "              loss = 'sparse_categorical_crossentropy')\n",
    "\n",
    "model.fit(training_images, training_labels, epochs=5)\n",
    "\n",
    "model.evaluate(test_images, test_labels)\n",
    "\n",
    "classifications = model.predict(test_images)\n",
    "\n",
    "print(classifications[0])\n",
    "print(test_labels[0])\n",
    "# 256 - 0.0708\n",
    "# 512 added layer - 0.0796"
   ]
  },
  {
   "cell_type": "markdown",
   "id": "44c81ff0",
   "metadata": {},
   "source": [
    "## Exercise 6\n",
    "### E6Q1: Consider the impact of training for more or less epochs. Why do you think that would be the case?\n",
    "Try 15 epochs -- you'll probably get a model with a much better loss than the one with 5\n",
    "Try 30 epochs -- you might see the loss value stops decreasing, and sometimes increases.\n",
    "This is a side effect of something called **'overfitting'** which you can learn about later and it's something you need to keep an eye out for when training neural networks. There's no point in wasting your time training if you aren't improving your loss, right! :)"
   ]
  },
  {
   "cell_type": "code",
   "execution_count": 5,
   "id": "6ee6f4be",
   "metadata": {},
   "outputs": [
    {
     "name": "stdout",
     "output_type": "stream",
     "text": [
      "Epoch 1/30\n",
      "1875/1875 [==============================] - 2s 825us/step - loss: 0.4204\n",
      "Epoch 2/30\n",
      "1875/1875 [==============================] - 1s 789us/step - loss: 0.1236\n",
      "Epoch 3/30\n",
      "1875/1875 [==============================] - 2s 849us/step - loss: 0.0809\n",
      "Epoch 4/30\n",
      "1875/1875 [==============================] - 2s 821us/step - loss: 0.0550\n",
      "Epoch 5/30\n",
      "1875/1875 [==============================] - 2s 849us/step - loss: 0.0422\n",
      "Epoch 6/30\n",
      "1875/1875 [==============================] - 2s 887us/step - loss: 0.0316\n",
      "Epoch 7/30\n",
      "1875/1875 [==============================] - 2s 957us/step - loss: 0.0242\n",
      "Epoch 8/30\n",
      "1875/1875 [==============================] - 2s 949us/step - loss: 0.0212\n",
      "Epoch 9/30\n",
      "1875/1875 [==============================] - 2s 956us/step - loss: 0.0161\n",
      "Epoch 10/30\n",
      "1875/1875 [==============================] - 2s 937us/step - loss: 0.0124\n",
      "Epoch 11/30\n",
      "1875/1875 [==============================] - 2s 946us/step - loss: 0.0109\n",
      "Epoch 12/30\n",
      "1875/1875 [==============================] - 2s 1ms/step - loss: 0.0100\n",
      "Epoch 13/30\n",
      "1875/1875 [==============================] - 2s 970us/step - loss: 0.0072\n",
      "Epoch 14/30\n",
      "1875/1875 [==============================] - 2s 980us/step - loss: 0.0074\n",
      "Epoch 15/30\n",
      "1875/1875 [==============================] - 2s 1ms/step - loss: 0.0068\n",
      "Epoch 16/30\n",
      "1875/1875 [==============================] - 2s 1ms/step - loss: 0.0047\n",
      "Epoch 17/30\n",
      "1875/1875 [==============================] - 2s 1ms/step - loss: 0.0058\n",
      "Epoch 18/30\n",
      "1875/1875 [==============================] - 2s 994us/step - loss: 0.0059\n",
      "Epoch 19/30\n",
      "1875/1875 [==============================] - 2s 1ms/step - loss: 0.0059\n",
      "Epoch 20/30\n",
      "1875/1875 [==============================] - 2s 993us/step - loss: 0.0040\n",
      "Epoch 21/30\n",
      "1875/1875 [==============================] - 2s 942us/step - loss: 0.0028\n",
      "Epoch 22/30\n",
      "1875/1875 [==============================] - 2s 959us/step - loss: 0.0042\n",
      "Epoch 23/30\n",
      "1875/1875 [==============================] - 2s 941us/step - loss: 0.0042\n",
      "Epoch 24/30\n",
      "1875/1875 [==============================] - 2s 940us/step - loss: 0.0029\n",
      "Epoch 25/30\n",
      "1875/1875 [==============================] - 2s 984us/step - loss: 0.0040\n",
      "Epoch 26/30\n",
      "1875/1875 [==============================] - 2s 966us/step - loss: 0.0037\n",
      "Epoch 27/30\n",
      "1875/1875 [==============================] - 2s 943us/step - loss: 0.0044\n",
      "Epoch 28/30\n",
      "1875/1875 [==============================] - 2s 1ms/step - loss: 0.0039\n",
      "Epoch 29/30\n",
      "1875/1875 [==============================] - 2s 1ms/step - loss: 0.0027\n",
      "Epoch 30/30\n",
      "1875/1875 [==============================] - 2s 1ms/step - loss: 0.0022\n",
      "313/313 [==============================] - 0s 695us/step - loss: 0.1143\n",
      "[2.1490455e-27 1.7244214e-22 2.2754548e-11 2.0646158e-13 7.3657463e-32\n",
      " 9.3704182e-35 1.3655812e-31 1.0000000e+00 3.1233626e-19 4.7167441e-19]\n"
     ]
    }
   ],
   "source": [
    "tf.keras.backend.clear_session()\n",
    "\n",
    "mnist = tf.keras.datasets.mnist\n",
    "\n",
    "(training_images, training_labels) ,  (test_images, test_labels) = mnist.load_data()\n",
    "\n",
    "training_images = training_images/255.0\n",
    "test_images = test_images/255.0\n",
    "\n",
    "model = tf.keras.models.Sequential([tf.keras.layers.Flatten(),\n",
    "                                    tf.keras.layers.Dense(128, activation=tf.nn.relu),\n",
    "                                    tf.keras.layers.Dense(10, activation=tf.nn.softmax)])\n",
    "\n",
    "model.compile(optimizer = 'adam',\n",
    "              loss = 'sparse_categorical_crossentropy')\n",
    "# 5 - 0.0806 loss\n",
    "# 15 - 0.0928\n",
    "# 30 - 0.1143\n",
    "model.fit(training_images, training_labels, epochs=30) # Experiment with the number of epochs\n",
    "\n",
    "model.evaluate(test_images, test_labels)\n",
    "\n",
    "classifications = model.predict(test_images)\n",
    "\n",
    "print(classifications[34])"
   ]
  },
  {
   "cell_type": "markdown",
   "id": "30a719da",
   "metadata": {},
   "source": [
    "## Exercise 7:\n",
    "Before you trained, you normalized the data, going from values that were 0-255 to values that were 0-1. What would be the impact of removing that? Here's the complete code to give it a try. Why do you think you get different results?"
   ]
  },
  {
   "cell_type": "code",
   "execution_count": 13,
   "id": "b64f8752",
   "metadata": {},
   "outputs": [
    {
     "name": "stdout",
     "output_type": "stream",
     "text": [
      "Epoch 1/5\n",
      "1875/1875 [==============================] - 4s 2ms/step - loss: 7.3154\n",
      "Epoch 2/5\n",
      "1875/1875 [==============================] - 3s 2ms/step - loss: 0.3090\n",
      "Epoch 3/5\n",
      "1875/1875 [==============================] - 4s 2ms/step - loss: 0.2692\n",
      "Epoch 4/5\n",
      "1875/1875 [==============================] - 4s 2ms/step - loss: 0.2584\n",
      "Epoch 5/5\n",
      "1875/1875 [==============================] - 4s 2ms/step - loss: 0.2210\n",
      "313/313 [==============================] - 0s 907us/step - loss: 0.4082\n",
      "[2.5989753e-28 6.2591915e-34 4.5202972e-18 6.6686331e-23 1.2824032e-33\n",
      " 0.0000000e+00 0.0000000e+00 1.0000000e+00 8.7729921e-35 3.0726676e-17]\n",
      "7\n"
     ]
    }
   ],
   "source": [
    "tf.keras.backend.clear_session()\n",
    "mnist = tf.keras.datasets.mnist\n",
    "(training_images, training_labels), (test_images, test_labels) = mnist.load_data()\n",
    "#training_images=training_images/255.0 # Experiment with removing this line\n",
    "#test_images=test_images/255.0 # Experiment with removing this line\n",
    "model = tf.keras.models.Sequential([\n",
    "  tf.keras.layers.Flatten(),\n",
    "  tf.keras.layers.Dense(512, activation=tf.nn.relu),\n",
    "  tf.keras.layers.Dense(10, activation=tf.nn.softmax)\n",
    "])\n",
    "model.compile(optimizer='adam', loss='sparse_categorical_crossentropy')\n",
    "model.fit(training_images, training_labels, epochs=5)\n",
    "model.evaluate(test_images, test_labels)\n",
    "classifications = model.predict(test_images)\n",
    "print(classifications[0])\n",
    "print(test_labels[0])\n",
    "\n",
    "# 0.0908\n"
   ]
  },
  {
   "cell_type": "markdown",
   "id": "84c97f92",
   "metadata": {},
   "source": [
    "## Exercise 8:\n",
    "Earlier when you trained for extra epochs you had an issue where your loss might change. It might have taken a bit of time for you to wait for the training to do that, and you might have thought 'wouldn't it be nice if I could stop the training when I reach a desired value?' -- i.e. 95% accuracy might be enough for you, and if you reach that after 3 epochs, why sit around waiting for it to finish a lot more epochs....So how would you fix that? Like any other program...you have callbacks! Let's see them in action..."
   ]
  },
  {
   "cell_type": "code",
   "execution_count": 18,
   "id": "8c5a5bc0",
   "metadata": {},
   "outputs": [
    {
     "name": "stdout",
     "output_type": "stream",
     "text": [
      "Epoch 1/10\n",
      "1875/1875 [==============================] - 4s 2ms/step - loss: 0.5898 - accuracy: 0.7905\n",
      "Epoch 2/10\n",
      "1875/1875 [==============================] - 4s 2ms/step - loss: 0.3640 - accuracy: 0.8667\n",
      "Epoch 3/10\n",
      "1875/1875 [==============================] - 4s 2ms/step - loss: 0.3266 - accuracy: 0.8798\n",
      "Epoch 4/10\n",
      "1875/1875 [==============================] - 4s 2ms/step - loss: 0.2995 - accuracy: 0.8895\n",
      "Epoch 5/10\n",
      "1875/1875 [==============================] - 4s 2ms/step - loss: 0.2798 - accuracy: 0.8944\n",
      "Epoch 6/10\n",
      "1875/1875 [==============================] - 4s 2ms/step - loss: 0.2657 - accuracy: 0.9000\n",
      "\n",
      " Reached 60% accuaracy so cacelling training!!\n"
     ]
    },
    {
     "data": {
      "text/plain": [
       "<tensorflow.python.keras.callbacks.History at 0x258f6d56898>"
      ]
     },
     "execution_count": 18,
     "metadata": {},
     "output_type": "execute_result"
    }
   ],
   "source": [
    "class myCallback(tf.keras.callbacks.Callback):\n",
    "    def on_epoch_end(self,epoch, logs={}):\n",
    "        if logs.get('accuracy') >=0.9:\n",
    "            print(\"\\n Reached 60% accuaracy so cacelling training!!\")\n",
    "            self.model.stop_training=True\n",
    "\n",
    "callbacks = myCallback()\n",
    "mnist = tf.keras.datasets.fashion_mnist\n",
    "(train_images, train_labels), (test_images, test_labels) = mnist.load_data()\n",
    "train_images = train_images /255.0\n",
    "test_images = test_images /255.0\n",
    "\n",
    "model = tf.keras.models.Sequential([\n",
    "    tf.keras.layers.Flatten(),\n",
    "    tf.keras.layers.Dense(512, activation=tf.nn.relu),\n",
    "    tf.keras.layers.Dense(10, activation=tf.nn.softmax)\n",
    "])\n",
    "\n",
    "model.compile(optimizer='adam', \n",
    "              loss='sparse_categorical_crossentropy', \n",
    "              metrics =['accuracy'])\n",
    "\n",
    "model.fit(train_images,train_labels, epochs=10, callbacks=[callbacks])"
   ]
  }
 ],
 "metadata": {
  "kernelspec": {
   "display_name": "Python 3",
   "language": "python",
   "name": "python3"
  },
  "language_info": {
   "codemirror_mode": {
    "name": "ipython",
    "version": 3
   },
   "file_extension": ".py",
   "mimetype": "text/x-python",
   "name": "python",
   "nbconvert_exporter": "python",
   "pygments_lexer": "ipython3",
   "version": "3.7.0"
  }
 },
 "nbformat": 4,
 "nbformat_minor": 5
}
