{
 "cells": [
  {
   "cell_type": "markdown",
   "id": "acafc31c",
   "metadata": {},
   "source": [
    "## Imports"
   ]
  },
  {
   "cell_type": "code",
   "execution_count": null,
   "id": "159a515d",
   "metadata": {},
   "outputs": [],
   "source": [
    "import tensorflow as tf\n",
    "import numpy as np\n",
    "from tensorflow import keras\n",
    "\n",
    "# import\n",
    "print(tf.__version__)\n"
   ]
  },
  {
   "cell_type": "markdown",
   "id": "d2960382",
   "metadata": {},
   "source": [
    "## Define and Compile the Neural Network"
   ]
  },
  {
   "cell_type": "markdown",
   "id": "ad57ceaf",
   "metadata": {},
   "source": [
    " 1 layer, and that layer has 1 neuron, and the input shape to its just 1 value"
   ]
  },
  {
   "cell_type": "code",
   "execution_count": null,
   "id": "39122e21",
   "metadata": {},
   "outputs": [],
   "source": [
    "model = tf.keras.Sequential([keras.layers.Dense(units=1, input_shape=[1])])"
   ]
  },
  {
   "cell_type": "markdown",
   "id": "5bb7641f",
   "metadata": {},
   "source": [
    "\n",
    "### LOSS function\n",
    "we have to specif 2 functions, a loss and an optimizer\n",
    "measures the guessed answers againtst the known correect answers and\n",
    "meausers the gusssed answers against how well or how badly it did\n",
    "\n"
   ]
  },
  {
   "cell_type": "markdown",
   "id": "206ad471",
   "metadata": {},
   "source": [
    "### OPTIMIZER\n",
    "Based on how the loss function went, it will try to minimized the loss\n",
    "it will repeat this for the numboer of EPOCHS which you will see shortly\n",
    "But first, here's how we tell it to use 'MEAN SQUARED ERROR' for the loss\n",
    "and 'STOCHASTIC GRADIENT DESCENT' for the optimizer"
   ]
  },
  {
   "cell_type": "code",
   "execution_count": null,
   "id": "207d37ec",
   "metadata": {},
   "outputs": [],
   "source": [
    "model.compile(optimizer='sgd', loss='mean_squared_error')"
   ]
  },
  {
   "cell_type": "markdown",
   "id": "10d83ec9",
   "metadata": {},
   "source": [
    "## Providing Data"
   ]
  },
  {
   "cell_type": "markdown",
   "id": "9c8e183b",
   "metadata": {},
   "source": [
    "A python library called 'Numpy' provides lots of array type data structures that are a defacto standard way of doing it. We declare that we want to use these by specifying the values as an np.array[]"
   ]
  },
  {
   "cell_type": "code",
   "execution_count": null,
   "id": "aa7f8b2d",
   "metadata": {},
   "outputs": [],
   "source": [
    "xs = np.array([-1.0, 0.0, 1.0, 2.0, 3.0, 4.0], dtype=float)\n",
    "ys = np.array([-3.0, -1.0, 1.0, 3.0, 5.0, 7.0], dtype=float)"
   ]
  },
  {
   "cell_type": "markdown",
   "id": "a9df6ccc",
   "metadata": {},
   "source": [
    "## Traing the Neural Network"
   ]
  },
  {
   "cell_type": "markdown",
   "id": "74c12eb1",
   "metadata": {},
   "source": [
    "The process of trainig the neural network, where it learns the relationship between the Xs and Ys is in the **model.fit** call. This is where it will go through the loop we spoke about above, making a guess, measuring how good or bad it is, using the optimizer to make another guess etc. it wii do it for the number of epochs you specify. \n"
   ]
  },
  {
   "cell_type": "code",
   "execution_count": null,
   "id": "b040f101",
   "metadata": {},
   "outputs": [],
   "source": [
    "model.fit(xs,ys, epochs=500)"
   ]
  },
  {
   "cell_type": "markdown",
   "id": "24f4d34e",
   "metadata": {},
   "source": [
    "Ok, now you hae a model that has been trained to learn the relationship betwwen X and Y. You can use the **model.predict** methos to have it figure out the Y for a previously unkonw X.\n",
    "example if X=10, what do you think Y will be? Take a guess before you run this code"
   ]
  },
  {
   "cell_type": "code",
   "execution_count": 22,
   "id": "49b3a148",
   "metadata": {},
   "outputs": [
    {
     "name": "stdout",
     "output_type": "stream",
     "text": [
      "[[18.999876]]\n"
     ]
    }
   ],
   "source": [
    "print(model.predict([10.0]))"
   ]
  },
  {
   "cell_type": "markdown",
   "id": "a251a67d",
   "metadata": {},
   "source": [
    "You might have though 19. but it ended up being a liitle under. Why do you think that is ?\n",
    "\n",
    "Remember the neural networks deal with probabilities, so given the data that we fed the NN with, it calculated that there is a very high probability that the relationship between X and Y is Y=2X-1, but with onl 6 data points we cant't know for sure. As a result, the result for 10 is very close to 19, but not necessarily 19.\n",
    "\n",
    "As you work with neural network, you'll see this pattern recurring. You will almost always deal with probabilities, note certainties, and will do a liitle big of coding to figure out what the result is based on the probabilities, particularly when it comes to classification"
   ]
  }
 ],
 "metadata": {
  "kernelspec": {
   "display_name": "Python 3",
   "language": "python",
   "name": "python3"
  },
  "language_info": {
   "codemirror_mode": {
    "name": "ipython",
    "version": 3
   },
   "file_extension": ".py",
   "mimetype": "text/x-python",
   "name": "python",
   "nbconvert_exporter": "python",
   "pygments_lexer": "ipython3",
   "version": "3.7.0"
  }
 },
 "nbformat": 4,
 "nbformat_minor": 5
}
